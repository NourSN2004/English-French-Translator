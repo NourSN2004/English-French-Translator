{
 "cells": [
  {
   "cell_type": "markdown",
   "metadata": {
    "id": "xiC75uo6u_Of"
   },
   "source": [
    "##Machine Translation Using a Seq2Seq Architecture\n",
    "\n",
    "---\n",
    "The goal of this colab is to get you more familiar with the Seq2Seq models and their challenges. For this reason, you will be working on machine translation problem where we would have a sentence as input (in english), and the output is gonna be the translated sentence (in french). So just like what happens with Google Translate.\n"
   ]
  },
  {
   "cell_type": "markdown",
   "metadata": {
    "id": "TeK4LPupvg_c"
   },
   "source": [
    "**Just to give you a heads up:** We won't be having a model performing like Google translate, but at least we will have an idea about how Google Translate works and the challenges that exist with a translation problem.  "
   ]
  },
  {
   "cell_type": "markdown",
   "metadata": {
    "id": "SBTvDTzBv293"
   },
   "source": [
    "## Importing Libraries"
   ]
  },
  {
   "cell_type": "markdown",
   "metadata": {
    "id": "4_j1ZzS3v6N3"
   },
   "source": [
    "We start by importing numpy and pandas and then we can add the rest"
   ]
  },
  {
   "cell_type": "code",
   "execution_count": null,
   "metadata": {
    "id": "n0IARXAX1e1m"
   },
   "outputs": [],
   "source": [
    "import pandas as pd\n",
    "import numpy as np\n",
    "import tensorflow as tf\n",
    "from tensorflow.keras.models import Sequential\n",
    "from tensorflow.keras.layers import (\n",
    "    Dense, LSTM, Bidirectional, Embedding, RepeatVector, TimeDistributed\n",
    ")\n",
    "from tensorflow.keras.preprocessing.text import Tokenizer\n",
    "from tensorflow.keras.preprocessing.sequence import pad_sequences\n",
    "from sklearn.model_selection import train_test_split\n",
    "import matplotlib.pyplot as plt"
   ]
  },
  {
   "cell_type": "markdown",
   "metadata": {
    "id": "vAcLqZ7uv-SJ"
   },
   "source": [
    "Upload your data here. Here is the [Drive link](https://drive.google.com/drive/folders/10ncj3w7kI9GPx_rz-WfKEGCv4Dz1EYf6?usp=sharing)"
   ]
  },
  {
   "cell_type": "markdown",
   "metadata": {
    "id": "i3hLN42axOjn"
   },
   "source": [
    "## Getting the data"
   ]
  },
  {
   "cell_type": "code",
   "execution_count": null,
   "metadata": {
    "id": "209wbqd-LTZk"
   },
   "outputs": [],
   "source": []
  },
  {
   "cell_type": "code",
   "execution_count": null,
   "metadata": {
    "colab": {
     "base_uri": "https://localhost:8080/"
    },
    "id": "0-M7cFxTPpqy",
    "outputId": "8112f719-3dc6-4a8f-932f-c40599e7342b"
   },
   "outputs": [
    {
     "name": "stdout",
     "output_type": "stream",
     "text": [
      "Mounted at /content/drive\n"
     ]
    }
   ],
   "source": [
    "#Test Your Knowledge\n",
    "from google.colab import drive\n",
    "drive.mount('/content/drive')\n",
    "\n",
    "# Replace 'path_to_en.csv' and 'path_to_fr.csv' with the actual paths in your Drive\n",
    "english_sentences = pd.read_csv('/content/drive/MyDrive/en.csv', header=None)\n",
    "french_sentences = pd.read_csv('/content/drive/MyDrive/fr.csv', header=None)\n",
    "\n"
   ]
  },
  {
   "cell_type": "markdown",
   "metadata": {
    "id": "BaPr0N8cwGAv"
   },
   "source": [
    "We read the english sentences in a dataframe named \"english\", and the french sentences in a dataframe named \"french\""
   ]
  },
  {
   "cell_type": "markdown",
   "metadata": {
    "id": "jr8OO1OhwSp4"
   },
   "source": [
    "**How many sentences does each of the files contain?**"
   ]
  },
  {
   "cell_type": "code",
   "execution_count": null,
   "metadata": {
    "colab": {
     "base_uri": "https://localhost:8080/"
    },
    "id": "XhWJP-b02HKq",
    "outputId": "3cfd45d7-62bc-40e6-98f8-da66270843b0"
   },
   "outputs": [
    {
     "name": "stdout",
     "output_type": "stream",
     "text": [
      "Number of English sentences: 137860\n",
      "Number of French sentences: 137860\n"
     ]
    }
   ],
   "source": [
    "#Test Your Knowledge\n",
    "print(f\"Number of English sentences: {english_sentences.shape[0]}\")\n",
    "print(f\"Number of French sentences: {french_sentences.shape[0]}\")\n"
   ]
  },
  {
   "cell_type": "markdown",
   "metadata": {
    "id": "ITGJN5tIwkDO"
   },
   "source": [
    "Now let us concatenate the 2 dataframes into one dataframe that we call **df** where one column has the english senetnces and the other has the french sentences"
   ]
  },
  {
   "cell_type": "code",
   "execution_count": null,
   "metadata": {
    "id": "-ZXxahsB2njn"
   },
   "outputs": [],
   "source": [
    "#Test Your Knowledge\n",
    "df = pd.concat([english_sentences, french_sentences], axis=1)\n"
   ]
  },
  {
   "cell_type": "markdown",
   "metadata": {
    "id": "nAr_caXkwwE7"
   },
   "source": [
    "Let's name the columns as **English** and **French** so that we access them easier."
   ]
  },
  {
   "cell_type": "code",
   "execution_count": null,
   "metadata": {
    "id": "eOHiQDXx3jFS"
   },
   "outputs": [],
   "source": [
    "#Test Your Knowledge\n",
    "df.columns = ['English', 'French']\n"
   ]
  },
  {
   "cell_type": "markdown",
   "metadata": {
    "id": "4xc1TsEHw9yC"
   },
   "source": [
    "Pick a sentence and print it in both languages"
   ]
  },
  {
   "cell_type": "code",
   "execution_count": null,
   "metadata": {
    "colab": {
     "base_uri": "https://localhost:8080/"
    },
    "id": "QuRVWch23ujo",
    "outputId": "33a2bd07-ae0a-47f8-e14c-59e9990f7ccb"
   },
   "outputs": [
    {
     "name": "stdout",
     "output_type": "stream",
     "text": [
      "English: the united states is usually chilly during july , and it is usually freezing in november .\n",
      "French: les états-unis est généralement froid en juillet , et il gèle habituellement en novembre .\n"
     ]
    }
   ],
   "source": [
    "#Test Your Knowledge\n",
    "# Display the second sentence pair\n",
    "print(f\"English: {df['English'].iloc[1]}\")\n",
    "print(f\"French: {df['French'].iloc[1]}\")\n"
   ]
  },
  {
   "cell_type": "markdown",
   "metadata": {
    "id": "FQjXYP1txFCi"
   },
   "source": [
    "##Cleaning Data"
   ]
  },
  {
   "cell_type": "markdown",
   "metadata": {
    "id": "xgz6jIoVxHUF"
   },
   "source": [
    "The data that we have is almost clean as we can see, we just need to remove the punctuations inside of it."
   ]
  },
  {
   "cell_type": "code",
   "execution_count": null,
   "metadata": {
    "id": "6YYOt5QftcFI"
   },
   "outputs": [],
   "source": [
    "#Test Your Knowledge\n",
    "import string\n",
    "\n",
    "# Function to clean sentences\n",
    "def clean_sentence(sentence):\n",
    "    sentence = sentence.lower()\n",
    "    sentence = sentence.strip()\n",
    "    # Remove punctuation\n",
    "    sentence = sentence.translate(str.maketrans('', '', string.punctuation))\n",
    "    return sentence\n",
    "\n",
    "# Apply cleaning to both English and French sentences\n",
    "df['English'] = df['English'].apply(clean_sentence)\n",
    "df['French'] = df['French'].apply(clean_sentence)\n"
   ]
  },
  {
   "cell_type": "markdown",
   "metadata": {
    "id": "0C1qsC9LxZPb"
   },
   "source": [
    "Make sure that the punctuation is removed by printing the example that you printed earlier."
   ]
  },
  {
   "cell_type": "code",
   "execution_count": null,
   "metadata": {
    "colab": {
     "base_uri": "https://localhost:8080/"
    },
    "id": "T80tiWxe84G7",
    "outputId": "0e676b45-11d9-4a30-d84f-f7798448f65c"
   },
   "outputs": [
    {
     "name": "stdout",
     "output_type": "stream",
     "text": [
      "Cleaned English: the united states is usually chilly during july  and it is usually freezing in november \n",
      "Cleaned French: les étatsunis est généralement froid en juillet  et il gèle habituellement en novembre \n"
     ]
    }
   ],
   "source": [
    "#Test Your Knowledge\n",
    "print(f\"Cleaned English: {df['English'].iloc[1]}\")\n",
    "print(f\"Cleaned French: {df['French'].iloc[1]}\")\n"
   ]
  },
  {
   "cell_type": "markdown",
   "metadata": {
    "id": "ZuFNjoBAx4oN"
   },
   "source": [
    "##Exploring the Data"
   ]
  },
  {
   "cell_type": "markdown",
   "metadata": {
    "id": "ATfefzPExi2k"
   },
   "source": [
    "Add a column **ENG Length** to the dataset that shows how many words does a sentence contain, and do the same for french in a column called **FR Length**"
   ]
  },
  {
   "cell_type": "code",
   "execution_count": null,
   "metadata": {
    "id": "Dakeo81s352S"
   },
   "outputs": [],
   "source": [
    "df['ENG_Length'] = df['English'].apply(lambda x: len(x.split()))\n",
    "df['FR_Length'] = df['French'].apply(lambda x: len(x.split()))\n"
   ]
  },
  {
   "cell_type": "markdown",
   "metadata": {
    "id": "AjQLW0K5xwx1"
   },
   "source": [
    "Visualize the distribution of the lengths of english sentences and french sentences."
   ]
  },
  {
   "cell_type": "code",
   "execution_count": null,
   "metadata": {
    "colab": {
     "base_uri": "https://localhost:8080/",
     "height": 563
    },
    "id": "_q_UIMJ09L24",
    "outputId": "5317db41-904d-4153-c27c-33b66f4f436b"
   },
   "outputs": [
    {
     "data": {
      "image/png": "[encoded data removed]",
      "text/plain": [
       "<Figure size 1400x600 with 2 Axes>"
      ]
     },
     "metadata": {},
     "output_type": "display_data"
    }
   ],
   "source": [
    "plt.figure(figsize=(14, 6))\n",
    "\n",
    "# English Sentence Length Distribution\n",
    "plt.subplot(1, 2, 1)\n",
    "plt.hist(df['ENG_Length'], bins=50, color='blue', alpha=0.7)\n",
    "plt.title('English Sentence Length Distribution')\n",
    "plt.xlabel('Number of Words')\n",
    "plt.ylabel('Frequency')\n",
    "\n",
    "# French Sentence Length Distribution\n",
    "plt.subplot(1, 2, 2)\n",
    "plt.hist(df['FR_Length'], bins=50, color='green', alpha=0.7)\n",
    "plt.title('French Sentence Length Distribution')\n",
    "plt.xlabel('Number of Words')\n",
    "plt.ylabel('Frequency')\n",
    "\n",
    "plt.tight_layout()\n",
    "plt.show()\n"
   ]
  },
  {
   "cell_type": "markdown",
   "metadata": {
    "id": "qxBODipVr1r3"
   },
   "source": [
    "**Graph shows the distribution of sentence lengths for english and french sentences, blue is english showing english sentences have lengths clustered between 12 and 14 tokens while green french shows sentences have a wider range with a peak around 12 and 15  tokens  suggesting french translations tend to be slightly longer on average.**"
   ]
  },
  {
   "cell_type": "code",
   "execution_count": null,
   "metadata": {
    "id": "TSn4L7kW9R7g"
   },
   "outputs": [],
   "source": [
    "#Test Your Knowledge"
   ]
  },
  {
   "cell_type": "markdown",
   "metadata": {
    "id": "BDXb2d9ix9DV"
   },
   "source": [
    "Get the maximum length of an english sentence and the maximum length of a french sentence."
   ]
  },
  {
   "cell_type": "code",
   "execution_count": null,
   "metadata": {
    "colab": {
     "base_uri": "https://localhost:8080/"
    },
    "id": "BpnBB04U_lHd",
    "outputId": "a8dbd29b-45bf-4d63-90f0-a4a5eab16ce1"
   },
   "outputs": [
    {
     "name": "stdout",
     "output_type": "stream",
     "text": [
      "Maximum English Sentence Length: 15\n",
      "Maximum French Sentence Length: 21\n"
     ]
    }
   ],
   "source": [
    "max_eng_length = df['ENG_Length'].max()\n",
    "max_fr_length = df['FR_Length'].max()\n",
    "\n",
    "print(f\"Maximum English Sentence Length: {max_eng_length}\")\n",
    "print(f\"Maximum French Sentence Length: {max_fr_length}\")\n"
   ]
  },
  {
   "cell_type": "markdown",
   "metadata": {
    "id": "s4s-spsRyGJv"
   },
   "source": [
    "##Preprocessing the Data"
   ]
  },
  {
   "cell_type": "markdown",
   "metadata": {
    "id": "N0ZmIT2GyJMU"
   },
   "source": [
    "In order for the data to be fed to the model, it has to be tokenized and padded."
   ]
  },
  {
   "cell_type": "markdown",
   "metadata": {
    "id": "R0r9z-eErm9H"
   },
   "source": [
    "####Tokenization"
   ]
  },
  {
   "cell_type": "markdown",
   "metadata": {
    "id": "X5L_zkhfyQuX"
   },
   "source": [
    "**To tokenize english and french sentences, we can use only one tokenizer. True or False?**"
   ]
  },
  {
   "cell_type": "markdown",
   "metadata": {
    "id": "1Z0ZcNOeyauD"
   },
   "source": [
    "**We can use both one and two tokenizers but the 2 is better in performance as shown in training epochs in both, note that at the end of the collab there  is the one tokenizer  and the first one was 2 so it is TRUE......**\n"
   ]
  },
  {
   "cell_type": "markdown",
   "metadata": {
    "id": "cK-_z-bLswnp"
   },
   "source": [
    "\n",
    "Shared Token Indexing offers several important benefits for multilingual models. It consistently handles common tokens like numbers, punctuation, and proper nouns across different languages using a single tokenizer, which allows shared embeddings and improves understanding. This approach also enables cross-lingual understanding by assigning similar embeddings to words with similar spellings or meanings, making translations smoother. By using one tokenizer, the process of converting sentences to sequences and back becomes unified and less complex during training and inference. Additionally, both the input and output layers share the same vocabulary size, simplifying the model’s architecture. The unified encoder and decoder use the same token representations, allowing the model to effectively map phrases from one language to another, such as translating \"good morning\" to \"bonjour.\" This method ensures language independence, enabling Seq2Seq models to translate seamlessly as long as the same token set is used. Finally, architectures like transformers take advantage of shared tokenizers to learn relationships within and between languages, accurately mapping meanings like \"I am happy\" to \"Je suis heureux.\" Overall, Shared Token Indexing enhances the efficiency and accuracy of multilingual models by maintaining a unified and consistent token representation.\n",
    "\n"
   ]
  },
  {
   "cell_type": "markdown",
   "metadata": {
    "id": "814mKDFiymcY"
   },
   "source": [
    "Tokenize the sentences that we have."
   ]
  },
  {
   "cell_type": "code",
   "execution_count": null,
   "metadata": {
    "id": "aiXlciqFuQzW"
   },
   "outputs": [],
   "source": [
    "# Tokenize English sentences\n",
    "eng_tokenizer = Tokenizer(oov_token='<OOV>')\n",
    "eng_tokenizer.fit_on_texts(df['English'])\n",
    "eng_vocab_size = len(eng_tokenizer.word_index) + 1\n",
    "\n",
    "\n",
    "# Tokenize French sentences\n",
    "fr_tokenizer = Tokenizer(oov_token='<OOV>')\n",
    "fr_tokenizer.fit_on_texts(df['French'])\n",
    "fr_vocab_size = len(fr_tokenizer.word_index) + 1\n",
    "\n"
   ]
  },
  {
   "cell_type": "markdown",
   "metadata": {
    "id": "aUN01jDXys9B"
   },
   "source": [
    "**How many unique words do we have in english and in french?**"
   ]
  },
  {
   "cell_type": "code",
   "execution_count": null,
   "metadata": {
    "colab": {
     "base_uri": "https://localhost:8080/"
    },
    "id": "1WahkdzKvIlO",
    "outputId": "7f40ba14-dea7-485a-eff5-a1e165b95a12"
   },
   "outputs": [
    {
     "name": "stdout",
     "output_type": "stream",
     "text": [
      "English Vocabulary Size: 201\n",
      "French Vocabulary Size: 346\n"
     ]
    }
   ],
   "source": [
    "print(f'English Vocabulary Size: {eng_vocab_size}')\n",
    "print(f'French Vocabulary Size: {fr_vocab_size}')\n"
   ]
  },
  {
   "cell_type": "markdown",
   "metadata": {
    "id": "g0C2RJjArtJd"
   },
   "source": [
    "####Padding"
   ]
  },
  {
   "cell_type": "markdown",
   "metadata": {
    "id": "vXdTXMo5y8oB"
   },
   "source": [
    "**What should be the length of the sequences that we have after padding?**"
   ]
  },
  {
   "cell_type": "markdown",
   "metadata": {
    "id": "9wtHQsgXzImq"
   },
   "source": [
    "**The sequences should be padded to the maximum sentence length in the dataset to ensure uniform input size for the model.**"
   ]
  },
  {
   "cell_type": "markdown",
   "metadata": {
    "id": "hRXayRzVzQD4"
   },
   "source": [
    "Perform padding on the sequences that we have.The sequences should be padded to the maximum sentence length in the dataset to ensure uniform input size for the model."
   ]
  },
  {
   "cell_type": "code",
   "execution_count": null,
   "metadata": {
    "colab": {
     "base_uri": "https://localhost:8080/"
    },
    "id": "oNdO9EZrxvmN",
    "outputId": "29f6dfbf-c742-4c9d-adbd-97f4aa1e9b35"
   },
   "outputs": [
    {
     "name": "stdout",
     "output_type": "stream",
     "text": [
      "Maximum English Sentence Length: 15\n",
      "Maximum French Sentence Length: 21\n",
      "Padded English Sequences Shape: (137860, 15)\n",
      "Padded French Sequences Shape: (137860, 21)\n"
     ]
    }
   ],
   "source": [
    "# Convert sentences to sequences\n",
    "eng_sequences = eng_tokenizer.texts_to_sequences(df['English'])\n",
    "fr_sequences = fr_tokenizer.texts_to_sequences(df['French'])\n",
    "#The texts_to_sequences method takes sentences from the DataFrame columns (df['English'] and df['French']) and converts them into sequences of integers\n",
    "#based on the vocabulary learned by the tokenizers\n",
    "# Find the maximum sentence lengths\n",
    "max_eng_length = max([len(seq) for seq in eng_sequences])\n",
    "max_fr_length = max([len(seq) for seq in fr_sequences])\n",
    "#The code calculates the maximum length of the sequences in both the English and French data. It iterates through each sequence\n",
    "#to find the one with the most tokens.\n",
    "print(f'Maximum English Sentence Length: {max_eng_length}')\n",
    "print(f'Maximum French Sentence Length: {max_fr_length}')\n",
    "\n",
    "# Pad the sequences\n",
    "eng_padded = pad_sequences(\n",
    "    eng_sequences,\n",
    "    maxlen=max_eng_length,\n",
    "    padding='post',\n",
    "    truncating='post'\n",
    ")\n",
    "#The pad_sequences function ensures that all sequences are of equal length by adding padding (usually zeros) at the end (padding='post').\n",
    "#If any sequence is longer than maxlen, it will be truncated from the end (truncating='post').\n",
    "fr_padded = pad_sequences(\n",
    "    fr_sequences,\n",
    "    maxlen=max_fr_length,\n",
    "    padding='post',\n",
    "    truncating='post'\n",
    ")\n",
    "\n",
    "print(f'Padded English Sequences Shape: {eng_padded.shape}')\n",
    "print(f'Padded French Sequences Shape: {fr_padded.shape}')\n"
   ]
  },
  {
   "cell_type": "markdown",
   "metadata": {
    "id": "JxvvVU3ezUHR"
   },
   "source": [
    "##Modeling"
   ]
  },
  {
   "cell_type": "markdown",
   "metadata": {
    "id": "FEKujJUEzVux"
   },
   "source": [
    "After preprrocessing the data, we can build our model. Start by building a baseline architecture relying on one directional RNNs, LSTMs, or GRUs. It will be good to lookup how to build Seq2Seq models, there are some new layers that will help you like RepeatVector and TimeDistributed."
   ]
  },
  {
   "cell_type": "code",
   "execution_count": null,
   "metadata": {
    "colab": {
     "base_uri": "https://localhost:8080/"
    },
    "id": "9oydzHkr3zDC",
    "outputId": "b989edbb-f5f9-4f60-a554-ae759fc52bc5"
   },
   "outputs": [
    {
     "name": "stdout",
     "output_type": "stream",
     "text": [
      "X_train Shape: (110288, 15)\n",
      "X_test Shape: (27572, 15)\n",
      "y_train Shape: (110288, 21)\n",
      "y_test Shape: (27572, 21)\n"
     ]
    }
   ],
   "source": [
    "X_train, X_test, y_train, y_test = train_test_split(\n",
    "    eng_padded,\n",
    "    fr_padded,\n",
    "    test_size=0.2,\n",
    "    random_state=42\n",
    ")\n",
    "\n",
    "print(f'X_train Shape: {X_train.shape}')\n",
    "print(f'X_test Shape: {X_test.shape}')\n",
    "print(f'y_train Shape: {y_train.shape}')\n",
    "print(f'y_test Shape: {y_test.shape}')\n"
   ]
  },
  {
   "cell_type": "code",
   "execution_count": null,
   "metadata": {
    "colab": {
     "base_uri": "https://localhost:8080/",
     "height": 326
    },
    "id": "fAlx94U0MFQG",
    "outputId": "58f9ce52-5dfb-4e18-f67a-780e88bc62f8"
   },
   "outputs": [
    {
     "name": "stderr",
     "output_type": "stream",
     "text": [
      "/usr/local/lib/python3.10/dist-packages/keras/src/layers/core/embedding.py:90: UserWarning: Argument `input_length` is deprecated. Just remove it.\n",
      "  warnings.warn(\n"
     ]
    },
    {
     "data": {
      "text/html": [
       "<pre style=\"white-space:pre;overflow-x:auto;line-height:normal;font-family:Menlo,'DejaVu Sans Mono',consolas,'Courier New',monospace\"><span style=\"font-weight: bold\">Model: \"sequential\"</span>\n",
       "</pre>\n"
      ],
      "text/plain": [
       "\u001b[1mModel: \"sequential\"\u001b[0m\n"
      ]
     },
     "metadata": {},
     "output_type": "display_data"
    },
    {
     "data": {
      "text/html": [
       "<pre style=\"white-space:pre;overflow-x:auto;line-height:normal;font-family:Menlo,'DejaVu Sans Mono',consolas,'Courier New',monospace\">┏━━━━━━━━━━━━━━━━━━━━━━━━━━━━━━━━━━━━━━┳━━━━━━━━━━━━━━━━━━━━━━━━━━━━━┳━━━━━━━━━━━━━━━━━┓\n",
       "┃<span style=\"font-weight: bold\"> Layer (type)                         </span>┃<span style=\"font-weight: bold\"> Output Shape                </span>┃<span style=\"font-weight: bold\">         Param # </span>┃\n",
       "┡━━━━━━━━━━━━━━━━━━━━━━━━━━━━━━━━━━━━━━╇━━━━━━━━━━━━━━━━━━━━━━━━━━━━━╇━━━━━━━━━━━━━━━━━┩\n",
       "│ embedding (<span style=\"color: #0087ff; text-decoration-color: #0087ff\">Embedding</span>)                │ ?                           │     <span style=\"color: #00af00; text-decoration-color: #00af00\">0</span> (unbuilt) │\n",
       "├──────────────────────────────────────┼─────────────────────────────┼─────────────────┤\n",
       "│ lstm (<span style=\"color: #0087ff; text-decoration-color: #0087ff\">LSTM</span>)                          │ ?                           │     <span style=\"color: #00af00; text-decoration-color: #00af00\">0</span> (unbuilt) │\n",
       "├──────────────────────────────────────┼─────────────────────────────┼─────────────────┤\n",
       "│ repeat_vector (<span style=\"color: #0087ff; text-decoration-color: #0087ff\">RepeatVector</span>)         │ ?                           │     <span style=\"color: #00af00; text-decoration-color: #00af00\">0</span> (unbuilt) │\n",
       "├──────────────────────────────────────┼─────────────────────────────┼─────────────────┤\n",
       "│ lstm_1 (<span style=\"color: #0087ff; text-decoration-color: #0087ff\">LSTM</span>)                        │ ?                           │     <span style=\"color: #00af00; text-decoration-color: #00af00\">0</span> (unbuilt) │\n",
       "├──────────────────────────────────────┼─────────────────────────────┼─────────────────┤\n",
       "│ time_distributed (<span style=\"color: #0087ff; text-decoration-color: #0087ff\">TimeDistributed</span>)   │ ?                           │     <span style=\"color: #00af00; text-decoration-color: #00af00\">0</span> (unbuilt) │\n",
       "└──────────────────────────────────────┴─────────────────────────────┴─────────────────┘\n",
       "</pre>\n"
      ],
      "text/plain": [
       "┏━━━━━━━━━━━━━━━━━━━━━━━━━━━━━━━━━━━━━━┳━━━━━━━━━━━━━━━━━━━━━━━━━━━━━┳━━━━━━━━━━━━━━━━━┓\n",
       "┃\u001b[1m \u001b[0m\u001b[1mLayer (type)                        \u001b[0m\u001b[1m \u001b[0m┃\u001b[1m \u001b[0m\u001b[1mOutput Shape               \u001b[0m\u001b[1m \u001b[0m┃\u001b[1m \u001b[0m\u001b[1m        Param #\u001b[0m\u001b[1m \u001b[0m┃\n",
       "┡━━━━━━━━━━━━━━━━━━━━━━━━━━━━━━━━━━━━━━╇━━━━━━━━━━━━━━━━━━━━━━━━━━━━━╇━━━━━━━━━━━━━━━━━┩\n",
       "│ embedding (\u001b[38;5;33mEmbedding\u001b[0m)                │ ?                           │     \u001b[38;5;34m0\u001b[0m (unbuilt) │\n",
       "├──────────────────────────────────────┼─────────────────────────────┼─────────────────┤\n",
       "│ lstm (\u001b[38;5;33mLSTM\u001b[0m)                          │ ?                           │     \u001b[38;5;34m0\u001b[0m (unbuilt) │\n",
       "├──────────────────────────────────────┼─────────────────────────────┼─────────────────┤\n",
       "│ repeat_vector (\u001b[38;5;33mRepeatVector\u001b[0m)         │ ?                           │     \u001b[38;5;34m0\u001b[0m (unbuilt) │\n",
       "├──────────────────────────────────────┼─────────────────────────────┼─────────────────┤\n",
       "│ lstm_1 (\u001b[38;5;33mLSTM\u001b[0m)                        │ ?                           │     \u001b[38;5;34m0\u001b[0m (unbuilt) │\n",
       "├──────────────────────────────────────┼─────────────────────────────┼─────────────────┤\n",
       "│ time_distributed (\u001b[38;5;33mTimeDistributed\u001b[0m)   │ ?                           │     \u001b[38;5;34m0\u001b[0m (unbuilt) │\n",
       "└──────────────────────────────────────┴─────────────────────────────┴─────────────────┘\n"
      ]
     },
     "metadata": {},
     "output_type": "display_data"
    },
    {
     "data": {
      "text/html": [
       "<pre style=\"white-space:pre;overflow-x:auto;line-height:normal;font-family:Menlo,'DejaVu Sans Mono',consolas,'Courier New',monospace\"><span style=\"font-weight: bold\"> Total params: </span><span style=\"color: #00af00; text-decoration-color: #00af00\">0</span> (0.00 B)\n",
       "</pre>\n"
      ],
      "text/plain": [
       "\u001b[1m Total params: \u001b[0m\u001b[38;5;34m0\u001b[0m (0.00 B)\n"
      ]
     },
     "metadata": {},
     "output_type": "display_data"
    },
    {
     "data": {
      "text/html": [
       "<pre style=\"white-space:pre;overflow-x:auto;line-height:normal;font-family:Menlo,'DejaVu Sans Mono',consolas,'Courier New',monospace\"><span style=\"font-weight: bold\"> Trainable params: </span><span style=\"color: #00af00; text-decoration-color: #00af00\">0</span> (0.00 B)\n",
       "</pre>\n"
      ],
      "text/plain": [
       "\u001b[1m Trainable params: \u001b[0m\u001b[38;5;34m0\u001b[0m (0.00 B)\n"
      ]
     },
     "metadata": {},
     "output_type": "display_data"
    },
    {
     "data": {
      "text/html": [
       "<pre style=\"white-space:pre;overflow-x:auto;line-height:normal;font-family:Menlo,'DejaVu Sans Mono',consolas,'Courier New',monospace\"><span style=\"font-weight: bold\"> Non-trainable params: </span><span style=\"color: #00af00; text-decoration-color: #00af00\">0</span> (0.00 B)\n",
       "</pre>\n"
      ],
      "text/plain": [
       "\u001b[1m Non-trainable params: \u001b[0m\u001b[38;5;34m0\u001b[0m (0.00 B)\n"
      ]
     },
     "metadata": {},
     "output_type": "display_data"
    }
   ],
   "source": [
    "# Build the Seq2Seq model using Sequential API\n",
    "model = Sequential()\n",
    "# Initializes a sequential model where layers are added one after another.\n",
    "# Encoder\n",
    "model.add(Embedding(\n",
    "    input_dim=eng_vocab_size,\n",
    "    output_dim=256,\n",
    "    input_length=max_eng_length,\n",
    "    mask_zero=True\n",
    "))\n",
    "#Converts input words (represented as integers from the tokenizer) into dense vector representations.\n",
    "#This helps the model learn semantic relationships between words.\n",
    "#This layer helps the model learn relationships between words and their meanings during training by updating the vector representations.\n",
    "model.add(LSTM(256))\n",
    "# Processes the input sequence and captures dependencies between words to create a context vector that summarizes the input sentence.\n",
    "# Repeat the context vector for as many times as the max length of the target sentences\n",
    "#The LSTM is designed to remember long sequences and manage gradient flow effectively, reducing vanishing gradient issues seen in traditional RNNs.\n",
    "model.add(RepeatVector(max_fr_length))\n",
    "#Takes the context vector from the encoder and repeats it max_fr_length times to match the length of the target sequence.\n",
    "# Ensures that the decoder receives a consistent input at each time step, allowing it to generate an output sequence.\n",
    "\n",
    "# Decoder\n",
    "model.add(LSTM(256, return_sequences=True))\n",
    "#This layer acts as the decoder, processing the repeated context vector and generating an output sequence.\n",
    "# Unlike the encoder LSTM, this decoder LSTM is set to return_sequences=True, which means it returns a full sequence of outputs (one for each time step)\n",
    "#to be used for further processing.\n",
    "# TimeDistributed Dense layer with softmax activation\n",
    "model.add(TimeDistributed(Dense(fr_vocab_size, activation='softmax')))\n",
    "#This layer applies a Dense (fully connected) layer to each time step of the decoder's output. It outputs a probability distribution over the French vocabulary\n",
    "#for each word position.This allows the model to generate a probability distribution over the French vocabulary for each word in the output sequence.\n",
    "# Display the model summary\n",
    "model.summary()\n"
   ]
  },
  {
   "cell_type": "markdown",
   "metadata": {
    "id": "aP10HtNBzpT0"
   },
   "source": [
    "Compile and train the model.\n",
    "**FYI:** While specifying the architecture of your model and the number of epochs for training, keeep in your mind that your model might take A LOT of time to train."
   ]
  },
  {
   "cell_type": "code",
   "execution_count": null,
   "metadata": {
    "id": "lWw4nBNIFp9D"
   },
   "outputs": [],
   "source": [
    "model.compile(\n",
    "    optimizer='adam',\n",
    "    loss='sparse_categorical_crossentropy',\n",
    "    metrics=['accuracy']\n",
    ")\n"
   ]
  },
  {
   "cell_type": "code",
   "execution_count": null,
   "metadata": {
    "colab": {
     "base_uri": "https://localhost:8080/"
    },
    "id": "aMXnS1EWMSa4",
    "outputId": "17acc539-5013-4bb7-ea4e-ca35a6ba9657"
   },
   "outputs": [
    {
     "name": "stdout",
     "output_type": "stream",
     "text": [
      "Reshaped y_train Shape: (110288, 21, 1)\n",
      "Reshaped y_test Shape: (27572, 21, 1)\n"
     ]
    }
   ],
   "source": [
    "y_train = y_train.reshape(y_train.shape[0], y_train.shape[1], 1)\n",
    "y_test = y_test.reshape(y_test.shape[0], y_test.shape[1], 1)\n",
    "\n",
    "print(f'Reshaped y_train Shape: {y_train.shape}')\n",
    "print(f'Reshaped y_test Shape: {y_test.shape}')\n"
   ]
  },
  {
   "cell_type": "code",
   "execution_count": null,
   "metadata": {
    "colab": {
     "base_uri": "https://localhost:8080/"
    },
    "id": "w590iwi4VL4u",
    "outputId": "d772b148-27f8-4a90-bf5a-513e4862289c"
   },
   "outputs": [
    {
     "name": "stdout",
     "output_type": "stream",
     "text": [
      "Epoch 1/10\n",
      "\u001b[1m1724/1724\u001b[0m \u001b[32m━━━━━━━━━━━━━━━━━━━━\u001b[0m\u001b[37m\u001b[0m \u001b[1m26s\u001b[0m 11ms/step - accuracy: 0.5736 - loss: 1.8729 - val_accuracy: 0.7981 - val_loss: 0.6901\n",
      "Epoch 2/10\n",
      "\u001b[1m1724/1724\u001b[0m \u001b[32m━━━━━━━━━━━━━━━━━━━━\u001b[0m\u001b[37m\u001b[0m \u001b[1m18s\u001b[0m 10ms/step - accuracy: 0.8255 - loss: 0.5923 - val_accuracy: 0.9009 - val_loss: 0.3292\n",
      "Epoch 3/10\n",
      "\u001b[1m1724/1724\u001b[0m \u001b[32m━━━━━━━━━━━━━━━━━━━━\u001b[0m\u001b[37m\u001b[0m \u001b[1m18s\u001b[0m 10ms/step - accuracy: 0.9191 - loss: 0.2801 - val_accuracy: 0.9521 - val_loss: 0.1683\n",
      "Epoch 4/10\n",
      "\u001b[1m1724/1724\u001b[0m \u001b[32m━━━━━━━━━━━━━━━━━━━━\u001b[0m\u001b[37m\u001b[0m \u001b[1m18s\u001b[0m 10ms/step - accuracy: 0.9557 - loss: 0.1514 - val_accuracy: 0.9631 - val_loss: 0.1228\n",
      "Epoch 5/10\n",
      "\u001b[1m1724/1724\u001b[0m \u001b[32m━━━━━━━━━━━━━━━━━━━━\u001b[0m\u001b[37m\u001b[0m \u001b[1m18s\u001b[0m 10ms/step - accuracy: 0.9650 - loss: 0.1158 - val_accuracy: 0.9692 - val_loss: 0.1010\n",
      "Epoch 6/10\n",
      "\u001b[1m1724/1724\u001b[0m \u001b[32m━━━━━━━━━━━━━━━━━━━━\u001b[0m\u001b[37m\u001b[0m \u001b[1m18s\u001b[0m 10ms/step - accuracy: 0.9735 - loss: 0.0861 - val_accuracy: 0.9728 - val_loss: 0.0869\n",
      "Epoch 7/10\n",
      "\u001b[1m1724/1724\u001b[0m \u001b[32m━━━━━━━━━━━━━━━━━━━━\u001b[0m\u001b[37m\u001b[0m \u001b[1m18s\u001b[0m 10ms/step - accuracy: 0.9776 - loss: 0.0719 - val_accuracy: 0.9761 - val_loss: 0.0779\n",
      "Epoch 8/10\n",
      "\u001b[1m1724/1724\u001b[0m \u001b[32m━━━━━━━━━━━━━━━━━━━━\u001b[0m\u001b[37m\u001b[0m \u001b[1m18s\u001b[0m 10ms/step - accuracy: 0.9786 - loss: 0.0702 - val_accuracy: 0.9789 - val_loss: 0.0695\n",
      "Epoch 9/10\n",
      "\u001b[1m1724/1724\u001b[0m \u001b[32m━━━━━━━━━━━━━━━━━━━━\u001b[0m\u001b[37m\u001b[0m \u001b[1m18s\u001b[0m 10ms/step - accuracy: 0.9838 - loss: 0.0519 - val_accuracy: 0.9783 - val_loss: 0.0719\n",
      "Epoch 10/10\n",
      "\u001b[1m1724/1724\u001b[0m \u001b[32m━━━━━━━━━━━━━━━━━━━━\u001b[0m\u001b[37m\u001b[0m \u001b[1m18s\u001b[0m 10ms/step - accuracy: 0.9844 - loss: 0.0510 - val_accuracy: 0.9806 - val_loss: 0.0640\n"
     ]
    }
   ],
   "source": [
    "history = model.fit(\n",
    "    X_train,\n",
    "    y_train,\n",
    "    epochs=10,\n",
    "    batch_size=64,\n",
    "    validation_data=(X_test, y_test)\n",
    ")\n"
   ]
  },
  {
   "cell_type": "code",
   "execution_count": null,
   "metadata": {
    "colab": {
     "base_uri": "https://localhost:8080/"
    },
    "id": "YPqjLfIBVQ2i",
    "outputId": "3c5b3592-4c62-4103-8533-c362621042e6"
   },
   "outputs": [
    {
     "name": "stdout",
     "output_type": "stream",
     "text": [
      "\u001b[1m862/862\u001b[0m \u001b[32m━━━━━━━━━━━━━━━━━━━━\u001b[0m\u001b[37m\u001b[0m \u001b[1m3s\u001b[0m 4ms/step - accuracy: 0.9807 - loss: 0.0637\n",
      "Test Loss: 0.0640\n",
      "Test Accuracy: 0.9806\n"
     ]
    }
   ],
   "source": [
    "loss, accuracy = model.evaluate(X_test, y_test)\n",
    "print(f'Test Loss: {loss:.4f}')\n",
    "print(f'Test Accuracy: {accuracy:.4f}')\n"
   ]
  },
  {
   "cell_type": "markdown",
   "metadata": {
    "id": "9UoEcxyJztiQ"
   },
   "source": [
    "Define a function that gets an input sentence in english and gives the output sentence in the french language."
   ]
  },
  {
   "cell_type": "code",
   "execution_count": null,
   "metadata": {
    "id": "fUU_RdCxYpM6"
   },
   "outputs": [],
   "source": [
    "# Function to translate English sentences to French\n",
    "def translate(sentence):\n",
    "    # Clean the sentence\n",
    "    sentence = clean_sentence(sentence)\n",
    "    # Tokenize the sentence\n",
    "    sequence = eng_tokenizer.texts_to_sequences([sentence])\n",
    "    # Pad the sequence\n",
    "    sequence = pad_sequences(\n",
    "        sequence,\n",
    "        maxlen=max_eng_length,\n",
    "        padding='post',\n",
    "        truncating='post'\n",
    "    )\n",
    "    # Predict the sequence\n",
    "    prediction = model.predict(sequence)\n",
    "    # Take the argmax to get the predicted word indices\n",
    "    prediction = np.argmax(prediction, axis=-1)[0]\n",
    "    # Convert indices to words\n",
    "    predicted_sentence = ''\n",
    "    for idx in prediction:\n",
    "        if idx != 0:\n",
    "            word = fr_tokenizer.index_word.get(idx, '')\n",
    "            predicted_sentence += word + ' '\n",
    "    return predicted_sentence.strip()\n"
   ]
  },
  {
   "cell_type": "markdown",
   "metadata": {
    "id": "XUQIcAjWz3bt"
   },
   "source": [
    "Test the following sentence"
   ]
  },
  {
   "cell_type": "code",
   "execution_count": null,
   "metadata": {
    "colab": {
     "base_uri": "https://localhost:8080/"
    },
    "id": "fDmNqnZIQMko",
    "outputId": "ace10464-72b5-44c3-81d6-3c84dd880c25"
   },
   "outputs": [
    {
     "name": "stdout",
     "output_type": "stream",
     "text": [
      "English: she is driving the truck\n",
      "\u001b[1m1/1\u001b[0m \u001b[32m━━━━━━━━━━━━━━━━━━━━\u001b[0m\u001b[37m\u001b[0m \u001b[1m0s\u001b[0m 372ms/step\n",
      "French (Predicted): elle conduit le camion bleu brillant\n"
     ]
    }
   ],
   "source": [
    "input = \"she is driving the truck\"\n",
    "print(f\"English: {input}\")\n",
    "print(f\"French (Predicted): {translate(input)}\")\n",
    "\n",
    "#Test Your Knowledge"
   ]
  },
  {
   "cell_type": "markdown",
   "metadata": {
    "id": "7l8Qj8rIEV6l"
   },
   "source": [
    "**i have a high accuracy but it is not 100% correct. either the dataset is too small or this is the translation in the actual dataset.**"
   ]
  },
  {
   "cell_type": "code",
   "execution_count": null,
   "metadata": {
    "id": "MI8ceC2tVcff"
   },
   "outputs": [],
   "source": [
    "# Function to plot training and validation accuracy and loss\n",
    "def plot_training_history(history):\n",
    "    # Plot Training & Validation Accuracy Values\n",
    "    plt.figure(figsize=(14, 5))\n",
    "\n",
    "    # Accuracy Plot\n",
    "    plt.subplot(1, 2, 1)\n",
    "    plt.plot(history.history['accuracy'], 'bo-', label='Training Accuracy')\n",
    "    plt.plot(history.history['val_accuracy'], 'ro-', label='Validation Accuracy')\n",
    "    plt.title('Model Accuracy Over Epochs')\n",
    "    plt.xlabel('Epoch')\n",
    "    plt.ylabel('Accuracy')\n",
    "    plt.legend()\n",
    "\n",
    "    # Loss Plot\n",
    "    plt.subplot(1, 2, 2)\n",
    "    plt.plot(history.history['loss'], 'bo-', label='Training Loss')\n",
    "    plt.plot(history.history['val_loss'], 'ro-', label='Validation Loss')\n",
    "    plt.title('Model Loss Over Epochs')\n",
    "    plt.xlabel('Epoch')\n",
    "    plt.ylabel('Loss')\n",
    "    plt.legend()\n",
    "\n",
    "    plt.show()\n"
   ]
  },
  {
   "cell_type": "code",
   "execution_count": null,
   "metadata": {
    "colab": {
     "base_uri": "https://localhost:8080/",
     "height": 487
    },
    "id": "8zD7M8-UVed3",
    "outputId": "ed6c9a8d-f409-47e9-a2df-9b4d2503b762"
   },
   "outputs": [
    {
     "data": {
      "image/png": "[encoded data removed]",
      "text/plain": [
       "<Figure size 1400x500 with 2 Axes>"
      ]
     },
     "metadata": {},
     "output_type": "display_data"
    }
   ],
   "source": [
    "plot_training_history(history)\n"
   ]
  },
  {
   "cell_type": "markdown",
   "metadata": {
    "id": "wdI2XhaBz6CN"
   },
   "source": [
    "Try to improve your model by modifying the architecture to take into account bidirectionality which is very useful in Machine Translation. Create a new model called model2"
   ]
  },
  {
   "cell_type": "code",
   "execution_count": null,
   "metadata": {
    "colab": {
     "base_uri": "https://localhost:8080/",
     "height": 291
    },
    "id": "Ch28BLsbGnCn",
    "outputId": "30b44d8f-374f-4f99-dc14-f2cf14019d4b"
   },
   "outputs": [
    {
     "data": {
      "text/html": [
       "<pre style=\"white-space:pre;overflow-x:auto;line-height:normal;font-family:Menlo,'DejaVu Sans Mono',consolas,'Courier New',monospace\"><span style=\"font-weight: bold\">Model: \"sequential_1\"</span>\n",
       "</pre>\n"
      ],
      "text/plain": [
       "\u001b[1mModel: \"sequential_1\"\u001b[0m\n"
      ]
     },
     "metadata": {},
     "output_type": "display_data"
    },
    {
     "data": {
      "text/html": [
       "<pre style=\"white-space:pre;overflow-x:auto;line-height:normal;font-family:Menlo,'DejaVu Sans Mono',consolas,'Courier New',monospace\">┏━━━━━━━━━━━━━━━━━━━━━━━━━━━━━━━━━━━━━━┳━━━━━━━━━━━━━━━━━━━━━━━━━━━━━┳━━━━━━━━━━━━━━━━━┓\n",
       "┃<span style=\"font-weight: bold\"> Layer (type)                         </span>┃<span style=\"font-weight: bold\"> Output Shape                </span>┃<span style=\"font-weight: bold\">         Param # </span>┃\n",
       "┡━━━━━━━━━━━━━━━━━━━━━━━━━━━━━━━━━━━━━━╇━━━━━━━━━━━━━━━━━━━━━━━━━━━━━╇━━━━━━━━━━━━━━━━━┩\n",
       "│ embedding_1 (<span style=\"color: #0087ff; text-decoration-color: #0087ff\">Embedding</span>)              │ ?                           │     <span style=\"color: #00af00; text-decoration-color: #00af00\">0</span> (unbuilt) │\n",
       "├──────────────────────────────────────┼─────────────────────────────┼─────────────────┤\n",
       "│ bidirectional (<span style=\"color: #0087ff; text-decoration-color: #0087ff\">Bidirectional</span>)        │ ?                           │     <span style=\"color: #00af00; text-decoration-color: #00af00\">0</span> (unbuilt) │\n",
       "├──────────────────────────────────────┼─────────────────────────────┼─────────────────┤\n",
       "│ repeat_vector_1 (<span style=\"color: #0087ff; text-decoration-color: #0087ff\">RepeatVector</span>)       │ ?                           │     <span style=\"color: #00af00; text-decoration-color: #00af00\">0</span> (unbuilt) │\n",
       "├──────────────────────────────────────┼─────────────────────────────┼─────────────────┤\n",
       "│ lstm_3 (<span style=\"color: #0087ff; text-decoration-color: #0087ff\">LSTM</span>)                        │ ?                           │     <span style=\"color: #00af00; text-decoration-color: #00af00\">0</span> (unbuilt) │\n",
       "├──────────────────────────────────────┼─────────────────────────────┼─────────────────┤\n",
       "│ time_distributed_1 (<span style=\"color: #0087ff; text-decoration-color: #0087ff\">TimeDistributed</span>) │ ?                           │     <span style=\"color: #00af00; text-decoration-color: #00af00\">0</span> (unbuilt) │\n",
       "└──────────────────────────────────────┴─────────────────────────────┴─────────────────┘\n",
       "</pre>\n"
      ],
      "text/plain": [
       "┏━━━━━━━━━━━━━━━━━━━━━━━━━━━━━━━━━━━━━━┳━━━━━━━━━━━━━━━━━━━━━━━━━━━━━┳━━━━━━━━━━━━━━━━━┓\n",
       "┃\u001b[1m \u001b[0m\u001b[1mLayer (type)                        \u001b[0m\u001b[1m \u001b[0m┃\u001b[1m \u001b[0m\u001b[1mOutput Shape               \u001b[0m\u001b[1m \u001b[0m┃\u001b[1m \u001b[0m\u001b[1m        Param #\u001b[0m\u001b[1m \u001b[0m┃\n",
       "┡━━━━━━━━━━━━━━━━━━━━━━━━━━━━━━━━━━━━━━╇━━━━━━━━━━━━━━━━━━━━━━━━━━━━━╇━━━━━━━━━━━━━━━━━┩\n",
       "│ embedding_1 (\u001b[38;5;33mEmbedding\u001b[0m)              │ ?                           │     \u001b[38;5;34m0\u001b[0m (unbuilt) │\n",
       "├──────────────────────────────────────┼─────────────────────────────┼─────────────────┤\n",
       "│ bidirectional (\u001b[38;5;33mBidirectional\u001b[0m)        │ ?                           │     \u001b[38;5;34m0\u001b[0m (unbuilt) │\n",
       "├──────────────────────────────────────┼─────────────────────────────┼─────────────────┤\n",
       "│ repeat_vector_1 (\u001b[38;5;33mRepeatVector\u001b[0m)       │ ?                           │     \u001b[38;5;34m0\u001b[0m (unbuilt) │\n",
       "├──────────────────────────────────────┼─────────────────────────────┼─────────────────┤\n",
       "│ lstm_3 (\u001b[38;5;33mLSTM\u001b[0m)                        │ ?                           │     \u001b[38;5;34m0\u001b[0m (unbuilt) │\n",
       "├──────────────────────────────────────┼─────────────────────────────┼─────────────────┤\n",
       "│ time_distributed_1 (\u001b[38;5;33mTimeDistributed\u001b[0m) │ ?                           │     \u001b[38;5;34m0\u001b[0m (unbuilt) │\n",
       "└──────────────────────────────────────┴─────────────────────────────┴─────────────────┘\n"
      ]
     },
     "metadata": {},
     "output_type": "display_data"
    },
    {
     "data": {
      "text/html": [
       "<pre style=\"white-space:pre;overflow-x:auto;line-height:normal;font-family:Menlo,'DejaVu Sans Mono',consolas,'Courier New',monospace\"><span style=\"font-weight: bold\"> Total params: </span><span style=\"color: #00af00; text-decoration-color: #00af00\">0</span> (0.00 B)\n",
       "</pre>\n"
      ],
      "text/plain": [
       "\u001b[1m Total params: \u001b[0m\u001b[38;5;34m0\u001b[0m (0.00 B)\n"
      ]
     },
     "metadata": {},
     "output_type": "display_data"
    },
    {
     "data": {
      "text/html": [
       "<pre style=\"white-space:pre;overflow-x:auto;line-height:normal;font-family:Menlo,'DejaVu Sans Mono',consolas,'Courier New',monospace\"><span style=\"font-weight: bold\"> Trainable params: </span><span style=\"color: #00af00; text-decoration-color: #00af00\">0</span> (0.00 B)\n",
       "</pre>\n"
      ],
      "text/plain": [
       "\u001b[1m Trainable params: \u001b[0m\u001b[38;5;34m0\u001b[0m (0.00 B)\n"
      ]
     },
     "metadata": {},
     "output_type": "display_data"
    },
    {
     "data": {
      "text/html": [
       "<pre style=\"white-space:pre;overflow-x:auto;line-height:normal;font-family:Menlo,'DejaVu Sans Mono',consolas,'Courier New',monospace\"><span style=\"font-weight: bold\"> Non-trainable params: </span><span style=\"color: #00af00; text-decoration-color: #00af00\">0</span> (0.00 B)\n",
       "</pre>\n"
      ],
      "text/plain": [
       "\u001b[1m Non-trainable params: \u001b[0m\u001b[38;5;34m0\u001b[0m (0.00 B)\n"
      ]
     },
     "metadata": {},
     "output_type": "display_data"
    }
   ],
   "source": [
    "from tensorflow.keras.layers import Bidirectional\n",
    "# Build the Seq2Seq model with Bidirectional LSTM using Sequential API\n",
    "model2 = Sequential()\n",
    "\n",
    "# Encoder with Bidirectional LSTM\n",
    "model2.add(Embedding(\n",
    "    input_dim=eng_vocab_size,\n",
    "    output_dim=256,\n",
    "    input_length=max_eng_length,\n",
    "    mask_zero=True\n",
    "))\n",
    "model2.add(Bidirectional(LSTM(256, return_sequences=False)))\n",
    "\n",
    "# Repeat the context vector for as many times as the max length of the target sentences\n",
    "model2.add(RepeatVector(max_fr_length))\n",
    "\n",
    "# Decoder with LSTM\n",
    "model2.add(LSTM(256, return_sequences=True))\n",
    "\n",
    "# TimeDistributed Dense layer with softmax activation\n",
    "model2.add(TimeDistributed(Dense(fr_vocab_size, activation='softmax')))\n",
    "\n",
    "# Display the model summary\n",
    "model2.summary()\n"
   ]
  },
  {
   "cell_type": "markdown",
   "metadata": {
    "id": "EHDvxt9L0C21"
   },
   "source": [
    "compile and train your new model."
   ]
  },
  {
   "cell_type": "code",
   "execution_count": null,
   "metadata": {
    "colab": {
     "base_uri": "https://localhost:8080/"
    },
    "id": "iK1QvVmaTWI2",
    "outputId": "52afb8c4-90a5-4a80-c2d4-df02d142e9d9"
   },
   "outputs": [
    {
     "name": "stdout",
     "output_type": "stream",
     "text": [
      "Epoch 1/10\n",
      "\u001b[1m1724/1724\u001b[0m \u001b[32m━━━━━━━━━━━━━━━━━━━━\u001b[0m\u001b[37m\u001b[0m \u001b[1m27s\u001b[0m 14ms/step - accuracy: 0.6013 - loss: 1.7415 - val_accuracy: 0.8299 - val_loss: 0.5614\n",
      "Epoch 2/10\n",
      "\u001b[1m1724/1724\u001b[0m \u001b[32m━━━━━━━━━━━━━━━━━━━━\u001b[0m\u001b[37m\u001b[0m \u001b[1m23s\u001b[0m 13ms/step - accuracy: 0.8649 - loss: 0.4503 - val_accuracy: 0.9403 - val_loss: 0.2171\n",
      "Epoch 3/10\n",
      "\u001b[1m1724/1724\u001b[0m \u001b[32m━━━━━━━━━━━━━━━━━━━━\u001b[0m\u001b[37m\u001b[0m \u001b[1m23s\u001b[0m 13ms/step - accuracy: 0.9460 - loss: 0.1914 - val_accuracy: 0.9601 - val_loss: 0.1307\n",
      "Epoch 4/10\n",
      "\u001b[1m1724/1724\u001b[0m \u001b[32m━━━━━━━━━━━━━━━━━━━━\u001b[0m\u001b[37m\u001b[0m \u001b[1m23s\u001b[0m 13ms/step - accuracy: 0.9614 - loss: 0.1262 - val_accuracy: 0.9696 - val_loss: 0.0992\n",
      "Epoch 5/10\n",
      "\u001b[1m1724/1724\u001b[0m \u001b[32m━━━━━━━━━━━━━━━━━━━━\u001b[0m\u001b[37m\u001b[0m \u001b[1m23s\u001b[0m 13ms/step - accuracy: 0.9721 - loss: 0.0909 - val_accuracy: 0.9703 - val_loss: 0.0952\n",
      "Epoch 6/10\n",
      "\u001b[1m1724/1724\u001b[0m \u001b[32m━━━━━━━━━━━━━━━━━━━━\u001b[0m\u001b[37m\u001b[0m \u001b[1m23s\u001b[0m 13ms/step - accuracy: 0.9758 - loss: 0.0772 - val_accuracy: 0.9742 - val_loss: 0.0832\n",
      "Epoch 7/10\n",
      "\u001b[1m1724/1724\u001b[0m \u001b[32m━━━━━━━━━━━━━━━━━━━━\u001b[0m\u001b[37m\u001b[0m \u001b[1m23s\u001b[0m 13ms/step - accuracy: 0.9806 - loss: 0.0626 - val_accuracy: 0.9763 - val_loss: 0.0756\n",
      "Epoch 8/10\n",
      "\u001b[1m1724/1724\u001b[0m \u001b[32m━━━━━━━━━━━━━━━━━━━━\u001b[0m\u001b[37m\u001b[0m \u001b[1m23s\u001b[0m 13ms/step - accuracy: 0.9826 - loss: 0.0555 - val_accuracy: 0.9792 - val_loss: 0.0685\n",
      "Epoch 9/10\n",
      "\u001b[1m1724/1724\u001b[0m \u001b[32m━━━━━━━━━━━━━━━━━━━━\u001b[0m\u001b[37m\u001b[0m \u001b[1m23s\u001b[0m 13ms/step - accuracy: 0.9851 - loss: 0.0479 - val_accuracy: 0.9824 - val_loss: 0.0580\n",
      "Epoch 10/10\n",
      "\u001b[1m1724/1724\u001b[0m \u001b[32m━━━━━━━━━━━━━━━━━━━━\u001b[0m\u001b[37m\u001b[0m \u001b[1m23s\u001b[0m 13ms/step - accuracy: 0.9879 - loss: 0.0394 - val_accuracy: 0.9824 - val_loss: 0.0606\n"
     ]
    }
   ],
   "source": [
    "# Compile the new model\n",
    "model2.compile(\n",
    "    optimizer='adam',\n",
    "    loss='sparse_categorical_crossentropy',\n",
    "    metrics=['accuracy']\n",
    ")\n",
    "\n",
    "\n",
    "\n",
    "# Train the new model and capture the training history\n",
    "history2 = model2.fit(\n",
    "    X_train,\n",
    "    y_train,\n",
    "    epochs=10,\n",
    "    batch_size=64,\n",
    "    validation_data=(X_test, y_test)\n",
    ")\n"
   ]
  },
  {
   "cell_type": "markdown",
   "metadata": {
    "id": "U4Ox_OK-EpTp"
   },
   "source": [
    "**less than  0.5% better. but it would not be very logical to  use bidirectional because they are both read from the same direction aka left to right unlike english and arabic as explained in class that do need bidirectional**"
   ]
  },
  {
   "cell_type": "markdown",
   "metadata": {
    "id": "CkpOI2JI0GBx"
   },
   "source": [
    "Define a new function that relies on your new model to make predictions."
   ]
  },
  {
   "cell_type": "code",
   "execution_count": null,
   "metadata": {
    "id": "Gulu8OiXTbae"
   },
   "outputs": [],
   "source": [
    "# Function to translate English sentences to French using model2\n",
    "def translate_model2(sentence):\n",
    "    # Clean the sentence\n",
    "    sentence = clean_sentence(sentence)\n",
    "    # Tokenize the sentence\n",
    "    sequence = eng_tokenizer.texts_to_sequences([sentence])\n",
    "    # Pad the sequence\n",
    "    sequence = pad_sequences(\n",
    "        sequence,\n",
    "        maxlen=max_eng_length,\n",
    "        padding='post',\n",
    "        truncating='post'\n",
    "    )\n",
    "    # Predict the sequence\n",
    "    prediction = model2.predict(sequence)\n",
    "    # Take the argmax to get the predicted word indices\n",
    "    prediction = np.argmax(prediction, axis=-1)[0]\n",
    "    # Convert indices to words\n",
    "    predicted_sentence = ''\n",
    "    for idx in prediction:\n",
    "        if idx != 0:\n",
    "            word = fr_tokenizer.index_word.get(idx, '')\n",
    "            predicted_sentence += word + ' '\n",
    "    return predicted_sentence.strip()\n"
   ]
  },
  {
   "cell_type": "code",
   "execution_count": null,
   "metadata": {
    "colab": {
     "base_uri": "https://localhost:8080/"
    },
    "id": "8CO0pO6-UAeE",
    "outputId": "c235477f-89e1-4ff8-e52c-946e8375fddb"
   },
   "outputs": [
    {
     "name": "stdout",
     "output_type": "stream",
     "text": [
      "English: she is driving the truck\n",
      "\u001b[1m1/1\u001b[0m \u001b[32m━━━━━━━━━━━━━━━━━━━━\u001b[0m\u001b[37m\u001b[0m \u001b[1m0s\u001b[0m 477ms/step\n",
      "French (Predicted by model2): elle conduit le camion camion brillant\n"
     ]
    }
   ],
   "source": [
    "input = \"she is driving the truck\"\n",
    "print(f\"English: {input}\")\n",
    "print(f\"French (Predicted by model2): {translate_model2(input)}\")\n"
   ]
  },
  {
   "cell_type": "code",
   "execution_count": null,
   "metadata": {
    "colab": {
     "base_uri": "https://localhost:8080/",
     "height": 1000
    },
    "id": "YdPDxCnvw3h-",
    "outputId": "496571f2-6539-426a-8179-5115b5388439"
   },
   "outputs": [
    {
     "name": "stdout",
     "output_type": "stream",
     "text": [
      "\n",
      "[One Tokenizer] Vocabulary Size: 529\n",
      "[One Tokenizer] Maximum Sentence Length: 21\n",
      "\n",
      "[One Tokenizer] Padded English Sequences Shape: (137860, 21)\n",
      "[One Tokenizer] Padded French Sequences Shape: (137860, 21)\n",
      "\n",
      "[One Tokenizer] X_train Shape: (110288, 21)\n",
      "[One Tokenizer] X_test Shape: (27572, 21)\n",
      "[One Tokenizer] y_train Shape: (110288, 21)\n",
      "[One Tokenizer] y_test Shape: (27572, 21)\n"
     ]
    },
    {
     "data": {
      "text/html": [
       "<pre style=\"white-space:pre;overflow-x:auto;line-height:normal;font-family:Menlo,'DejaVu Sans Mono',consolas,'Courier New',monospace\"><span style=\"font-weight: bold\">Model: \"sequential_3\"</span>\n",
       "</pre>\n"
      ],
      "text/plain": [
       "\u001b[1mModel: \"sequential_3\"\u001b[0m\n"
      ]
     },
     "metadata": {},
     "output_type": "display_data"
    },
    {
     "data": {
      "text/html": [
       "<pre style=\"white-space:pre;overflow-x:auto;line-height:normal;font-family:Menlo,'DejaVu Sans Mono',consolas,'Courier New',monospace\">┏━━━━━━━━━━━━━━━━━━━━━━━━━━━━━━━━━━━━━━┳━━━━━━━━━━━━━━━━━━━━━━━━━━━━━┳━━━━━━━━━━━━━━━━━┓\n",
       "┃<span style=\"font-weight: bold\"> Layer (type)                         </span>┃<span style=\"font-weight: bold\"> Output Shape                </span>┃<span style=\"font-weight: bold\">         Param # </span>┃\n",
       "┡━━━━━━━━━━━━━━━━━━━━━━━━━━━━━━━━━━━━━━╇━━━━━━━━━━━━━━━━━━━━━━━━━━━━━╇━━━━━━━━━━━━━━━━━┩\n",
       "│ embedding_3 (<span style=\"color: #0087ff; text-decoration-color: #0087ff\">Embedding</span>)              │ ?                           │     <span style=\"color: #00af00; text-decoration-color: #00af00\">0</span> (unbuilt) │\n",
       "├──────────────────────────────────────┼─────────────────────────────┼─────────────────┤\n",
       "│ lstm_6 (<span style=\"color: #0087ff; text-decoration-color: #0087ff\">LSTM</span>)                        │ ?                           │     <span style=\"color: #00af00; text-decoration-color: #00af00\">0</span> (unbuilt) │\n",
       "├──────────────────────────────────────┼─────────────────────────────┼─────────────────┤\n",
       "│ repeat_vector_3 (<span style=\"color: #0087ff; text-decoration-color: #0087ff\">RepeatVector</span>)       │ ?                           │     <span style=\"color: #00af00; text-decoration-color: #00af00\">0</span> (unbuilt) │\n",
       "├──────────────────────────────────────┼─────────────────────────────┼─────────────────┤\n",
       "│ lstm_7 (<span style=\"color: #0087ff; text-decoration-color: #0087ff\">LSTM</span>)                        │ ?                           │     <span style=\"color: #00af00; text-decoration-color: #00af00\">0</span> (unbuilt) │\n",
       "├──────────────────────────────────────┼─────────────────────────────┼─────────────────┤\n",
       "│ time_distributed_3 (<span style=\"color: #0087ff; text-decoration-color: #0087ff\">TimeDistributed</span>) │ ?                           │     <span style=\"color: #00af00; text-decoration-color: #00af00\">0</span> (unbuilt) │\n",
       "└──────────────────────────────────────┴─────────────────────────────┴─────────────────┘\n",
       "</pre>\n"
      ],
      "text/plain": [
       "┏━━━━━━━━━━━━━━━━━━━━━━━━━━━━━━━━━━━━━━┳━━━━━━━━━━━━━━━━━━━━━━━━━━━━━┳━━━━━━━━━━━━━━━━━┓\n",
       "┃\u001b[1m \u001b[0m\u001b[1mLayer (type)                        \u001b[0m\u001b[1m \u001b[0m┃\u001b[1m \u001b[0m\u001b[1mOutput Shape               \u001b[0m\u001b[1m \u001b[0m┃\u001b[1m \u001b[0m\u001b[1m        Param #\u001b[0m\u001b[1m \u001b[0m┃\n",
       "┡━━━━━━━━━━━━━━━━━━━━━━━━━━━━━━━━━━━━━━╇━━━━━━━━━━━━━━━━━━━━━━━━━━━━━╇━━━━━━━━━━━━━━━━━┩\n",
       "│ embedding_3 (\u001b[38;5;33mEmbedding\u001b[0m)              │ ?                           │     \u001b[38;5;34m0\u001b[0m (unbuilt) │\n",
       "├──────────────────────────────────────┼─────────────────────────────┼─────────────────┤\n",
       "│ lstm_6 (\u001b[38;5;33mLSTM\u001b[0m)                        │ ?                           │     \u001b[38;5;34m0\u001b[0m (unbuilt) │\n",
       "├──────────────────────────────────────┼─────────────────────────────┼─────────────────┤\n",
       "│ repeat_vector_3 (\u001b[38;5;33mRepeatVector\u001b[0m)       │ ?                           │     \u001b[38;5;34m0\u001b[0m (unbuilt) │\n",
       "├──────────────────────────────────────┼─────────────────────────────┼─────────────────┤\n",
       "│ lstm_7 (\u001b[38;5;33mLSTM\u001b[0m)                        │ ?                           │     \u001b[38;5;34m0\u001b[0m (unbuilt) │\n",
       "├──────────────────────────────────────┼─────────────────────────────┼─────────────────┤\n",
       "│ time_distributed_3 (\u001b[38;5;33mTimeDistributed\u001b[0m) │ ?                           │     \u001b[38;5;34m0\u001b[0m (unbuilt) │\n",
       "└──────────────────────────────────────┴─────────────────────────────┴─────────────────┘\n"
      ]
     },
     "metadata": {},
     "output_type": "display_data"
    },
    {
     "data": {
      "text/html": [
       "<pre style=\"white-space:pre;overflow-x:auto;line-height:normal;font-family:Menlo,'DejaVu Sans Mono',consolas,'Courier New',monospace\"><span style=\"font-weight: bold\"> Total params: </span><span style=\"color: #00af00; text-decoration-color: #00af00\">0</span> (0.00 B)\n",
       "</pre>\n"
      ],
      "text/plain": [
       "\u001b[1m Total params: \u001b[0m\u001b[38;5;34m0\u001b[0m (0.00 B)\n"
      ]
     },
     "metadata": {},
     "output_type": "display_data"
    },
    {
     "data": {
      "text/html": [
       "<pre style=\"white-space:pre;overflow-x:auto;line-height:normal;font-family:Menlo,'DejaVu Sans Mono',consolas,'Courier New',monospace\"><span style=\"font-weight: bold\"> Trainable params: </span><span style=\"color: #00af00; text-decoration-color: #00af00\">0</span> (0.00 B)\n",
       "</pre>\n"
      ],
      "text/plain": [
       "\u001b[1m Trainable params: \u001b[0m\u001b[38;5;34m0\u001b[0m (0.00 B)\n"
      ]
     },
     "metadata": {},
     "output_type": "display_data"
    },
    {
     "data": {
      "text/html": [
       "<pre style=\"white-space:pre;overflow-x:auto;line-height:normal;font-family:Menlo,'DejaVu Sans Mono',consolas,'Courier New',monospace\"><span style=\"font-weight: bold\"> Non-trainable params: </span><span style=\"color: #00af00; text-decoration-color: #00af00\">0</span> (0.00 B)\n",
       "</pre>\n"
      ],
      "text/plain": [
       "\u001b[1m Non-trainable params: \u001b[0m\u001b[38;5;34m0\u001b[0m (0.00 B)\n"
      ]
     },
     "metadata": {},
     "output_type": "display_data"
    },
    {
     "name": "stdout",
     "output_type": "stream",
     "text": [
      "\n",
      "[One Tokenizer] Reshaped y_train Shape: (110288, 21, 1)\n",
      "[One Tokenizer] Reshaped y_test Shape: (27572, 21, 1)\n",
      "Epoch 1/10\n",
      "\u001b[1m1724/1724\u001b[0m \u001b[32m━━━━━━━━━━━━━━━━━━━━\u001b[0m\u001b[37m\u001b[0m \u001b[1m23s\u001b[0m 11ms/step - accuracy: 0.5623 - loss: 1.9629 - val_accuracy: 0.7709 - val_loss: 0.7724\n",
      "Epoch 2/10\n",
      "\u001b[1m1724/1724\u001b[0m \u001b[32m━━━━━━━━━━━━━━━━━━━━\u001b[0m\u001b[37m\u001b[0m \u001b[1m19s\u001b[0m 11ms/step - accuracy: 0.8032 - loss: 0.6614 - val_accuracy: 0.8824 - val_loss: 0.3913\n",
      "Epoch 3/10\n",
      "\u001b[1m1724/1724\u001b[0m \u001b[32m━━━━━━━━━━━━━━━━━━━━\u001b[0m\u001b[37m\u001b[0m \u001b[1m18s\u001b[0m 11ms/step - accuracy: 0.9076 - loss: 0.3173 - val_accuracy: 0.9483 - val_loss: 0.1823\n",
      "Epoch 4/10\n",
      "\u001b[1m1724/1724\u001b[0m \u001b[32m━━━━━━━━━━━━━━━━━━━━\u001b[0m\u001b[37m\u001b[0m \u001b[1m19s\u001b[0m 11ms/step - accuracy: 0.9534 - loss: 0.1625 - val_accuracy: 0.9646 - val_loss: 0.1192\n",
      "Epoch 5/10\n",
      "\u001b[1m1724/1724\u001b[0m \u001b[32m━━━━━━━━━━━━━━━━━━━━\u001b[0m\u001b[37m\u001b[0m \u001b[1m19s\u001b[0m 11ms/step - accuracy: 0.9657 - loss: 0.1152 - val_accuracy: 0.9715 - val_loss: 0.0930\n",
      "Epoch 6/10\n",
      "\u001b[1m1724/1724\u001b[0m \u001b[32m━━━━━━━━━━━━━━━━━━━━\u001b[0m\u001b[37m\u001b[0m \u001b[1m19s\u001b[0m 11ms/step - accuracy: 0.9730 - loss: 0.0892 - val_accuracy: 0.9738 - val_loss: 0.0873\n",
      "Epoch 7/10\n",
      "\u001b[1m1724/1724\u001b[0m \u001b[32m━━━━━━━━━━━━━━━━━━━━\u001b[0m\u001b[37m\u001b[0m \u001b[1m19s\u001b[0m 11ms/step - accuracy: 0.9773 - loss: 0.0734 - val_accuracy: 0.9769 - val_loss: 0.0747\n",
      "Epoch 8/10\n",
      "\u001b[1m1724/1724\u001b[0m \u001b[32m━━━━━━━━━━━━━━━━━━━━\u001b[0m\u001b[37m\u001b[0m \u001b[1m19s\u001b[0m 11ms/step - accuracy: 0.9821 - loss: 0.0578 - val_accuracy: 0.9795 - val_loss: 0.0693\n",
      "Epoch 9/10\n",
      "\u001b[1m1724/1724\u001b[0m \u001b[32m━━━━━━━━━━━━━━━━━━━━\u001b[0m\u001b[37m\u001b[0m \u001b[1m19s\u001b[0m 11ms/step - accuracy: 0.9841 - loss: 0.0518 - val_accuracy: 0.9799 - val_loss: 0.0650\n",
      "Epoch 10/10\n",
      "\u001b[1m1724/1724\u001b[0m \u001b[32m━━━━━━━━━━━━━━━━━━━━\u001b[0m\u001b[37m\u001b[0m \u001b[1m19s\u001b[0m 11ms/step - accuracy: 0.9851 - loss: 0.0480 - val_accuracy: 0.9790 - val_loss: 0.0693\n",
      "\u001b[1m862/862\u001b[0m \u001b[32m━━━━━━━━━━━━━━━━━━━━\u001b[0m\u001b[37m\u001b[0m \u001b[1m3s\u001b[0m 4ms/step - accuracy: 0.9789 - loss: 0.0708\n",
      "\n",
      "[One Tokenizer] Test Loss: 0.0693\n",
      "[One Tokenizer] Test Accuracy: 0.9790\n",
      "\n",
      "[One Tokenizer] Example Translation:\n",
      "English: she is driving the truck\n",
      "\u001b[1m1/1\u001b[0m \u001b[32m━━━━━━━━━━━━━━━━━━━━\u001b[0m\u001b[37m\u001b[0m \u001b[1m0s\u001b[0m 367ms/step\n",
      "French (Predicted by one tokenizer): elle conduit le camion noir\n"
     ]
    },
    {
     "data": {
      "image/png": "[encoded data removed]",
      "text/plain": [
       "<Figure size 1400x500 with 2 Axes>"
      ]
     },
     "metadata": {},
     "output_type": "display_data"
    }
   ],
   "source": [
    "# ----------------------------- #\n",
    "#     One Tokenizer Approach     #\n",
    "# ----------------------------- #\n",
    "\n",
    "# Combine all sentences (both English and French) into one list for a single tokenizer\n",
    "all_sentences_one_tokenizer = df['English'].tolist() + df['French'].tolist()\n",
    "\n",
    "# Create and fit the single tokenizer with an Out-Of-Vocabulary (OOV) token\n",
    "tokenizer_one = Tokenizer(oov_token='<OOV>')\n",
    "tokenizer_one.fit_on_texts(all_sentences_one_tokenizer)\n",
    "\n",
    "# Vocabulary size (including OOV token)\n",
    "vocab_size_one = len(tokenizer_one.word_index) + 1\n",
    "print(f'\\n[One Tokenizer] Vocabulary Size: {vocab_size_one}')\n",
    "\n",
    "# ----------------------------- #\n",
    "#      Step 2: Tokenize and Pad the Sentences\n",
    "# ----------------------------- #\n",
    "\n",
    "# Convert English and French sentences to sequences using the single tokenizer\n",
    "eng_sequences_one = tokenizer_one.texts_to_sequences(df['English'])\n",
    "fr_sequences_one = tokenizer_one.texts_to_sequences(df['French'])\n",
    "\n",
    "# Find the maximum sentence length (ensure it's consistent with Two Tokenizer approach if needed)\n",
    "max_length_one = max(df['ENG_Length'].max(), df['FR_Length'].max())\n",
    "print(f\"[One Tokenizer] Maximum Sentence Length: {max_length_one}\")\n",
    "\n",
    "# Pad the sequences to ensure uniform length\n",
    "eng_padded_one = pad_sequences(\n",
    "    eng_sequences_one,\n",
    "    maxlen=max_length_one,\n",
    "    padding='post',\n",
    "    truncating='post'\n",
    ")\n",
    "\n",
    "fr_padded_one = pad_sequences(\n",
    "    fr_sequences_one,\n",
    "    maxlen=max_length_one,\n",
    "    padding='post',\n",
    "    truncating='post'\n",
    ")\n",
    "\n",
    "print(f'\\n[One Tokenizer] Padded English Sequences Shape: {eng_padded_one.shape}')\n",
    "print(f'[One Tokenizer] Padded French Sequences Shape: {fr_padded_one.shape}')\n",
    "\n",
    "# ----------------------------- #\n",
    "#      Step 3: Split the Data into Training and Testing Sets\n",
    "# ----------------------------- #\n",
    "\n",
    "X_train_one, X_test_one, y_train_one, y_test_one = train_test_split(\n",
    "    eng_padded_one,\n",
    "    fr_padded_one,\n",
    "    test_size=0.2,\n",
    "    random_state=42\n",
    ")\n",
    "\n",
    "print(f'\\n[One Tokenizer] X_train Shape: {X_train_one.shape}')\n",
    "print(f'[One Tokenizer] X_test Shape: {X_test_one.shape}')\n",
    "print(f'[One Tokenizer] y_train Shape: {y_train_one.shape}')\n",
    "print(f'[One Tokenizer] y_test Shape: {y_test_one.shape}')\n",
    "\n",
    "# ----------------------------- #\n",
    "#      Step 4: Build the Seq2Seq Model with One Tokenizer\n",
    "# ----------------------------- #\n",
    "\n",
    "# Build the Seq2Seq model using Sequential API for one tokenizer\n",
    "model_one_tokenizer = Sequential()\n",
    "\n",
    "# Encoder\n",
    "model_one_tokenizer.add(Embedding(\n",
    "    input_dim=vocab_size_one,\n",
    "    output_dim=256,\n",
    "    input_length=max_length_one,\n",
    "    mask_zero=True\n",
    "))\n",
    "model_one_tokenizer.add(LSTM(256))\n",
    "\n",
    "# Repeat the context vector for as many times as the max length of the target sentences\n",
    "model_one_tokenizer.add(RepeatVector(max_length_one))\n",
    "\n",
    "# Decoder\n",
    "model_one_tokenizer.add(LSTM(256, return_sequences=True))\n",
    "\n",
    "# TimeDistributed Dense layer with softmax activation\n",
    "model_one_tokenizer.add(TimeDistributed(Dense(vocab_size_one, activation='softmax')))\n",
    "\n",
    "# Display the model summary\n",
    "model_one_tokenizer.summary()\n",
    "\n",
    "# ----------------------------- #\n",
    "#      Step 5: Compile the Model\n",
    "# ----------------------------- #\n",
    "\n",
    "model_one_tokenizer.compile(\n",
    "    optimizer='adam',\n",
    "    loss='sparse_categorical_crossentropy',\n",
    "    metrics=['accuracy']\n",
    ")\n",
    "\n",
    "# ----------------------------- #\n",
    "#      Step 6: Prepare the Target Data\n",
    "# ----------------------------- #\n",
    "\n",
    "# Reshape the target data to 3D (samples, timesteps, 1) as required by the loss function\n",
    "y_train_one = y_train_one.reshape(y_train_one.shape[0], y_train_one.shape[1], 1)\n",
    "y_test_one = y_test_one.reshape(y_test_one.shape[0], y_test_one.shape[1], 1)\n",
    "\n",
    "print(f'\\n[One Tokenizer] Reshaped y_train Shape: {y_train_one.shape}')\n",
    "print(f'[One Tokenizer] Reshaped y_test Shape: {y_test_one.shape}')\n",
    "\n",
    "# ----------------------------- #\n",
    "#      Step 7: Train the Model\n",
    "# ----------------------------- #\n",
    "\n",
    "\n",
    "# Train the one tokenizer model and capture the training history\n",
    "history_one = model_one_tokenizer.fit(\n",
    "    X_train_one,\n",
    "    y_train_one,\n",
    "    epochs=10,\n",
    "    batch_size=64,\n",
    "    validation_data=(X_test_one, y_test_one),\n",
    "\n",
    ")\n",
    "\n",
    "# ----------------------------- #\n",
    "#      Step 8: Evaluate the Model\n",
    "# ----------------------------- #\n",
    "\n",
    "loss_one, accuracy_one = model_one_tokenizer.evaluate(X_test_one, y_test_one)\n",
    "print(f'\\n[One Tokenizer] Test Loss: {loss_one:.4f}')\n",
    "print(f'[One Tokenizer] Test Accuracy: {accuracy_one:.4f}')\n",
    "\n",
    "# ----------------------------- #\n",
    "#      Step 9: Make Predictions\n",
    "# ----------------------------- #\n",
    "\n",
    "# Function to translate English sentences to French using the one tokenizer model\n",
    "def translate_one_tokenizer(sentence):\n",
    "    # Clean the sentence\n",
    "    sentence = clean_sentence(sentence)\n",
    "    # Tokenize the sentence using the single tokenizer\n",
    "    sequence = tokenizer_one.texts_to_sequences([sentence])\n",
    "    # Pad the sequence\n",
    "    sequence = pad_sequences(\n",
    "        sequence,\n",
    "        maxlen=max_length_one,\n",
    "        padding='post',\n",
    "        truncating='post'\n",
    "    )\n",
    "    # Predict the sequence\n",
    "    prediction = model_one_tokenizer.predict(sequence)\n",
    "    # Take the argmax to get the predicted word indices\n",
    "    prediction = np.argmax(prediction, axis=-1)[0]\n",
    "    # Convert indices to words using the single tokenizer's index_word\n",
    "    predicted_sentence = ''\n",
    "    for idx in prediction:\n",
    "        if idx != 0:\n",
    "            word = tokenizer_one.index_word.get(idx, '')\n",
    "            predicted_sentence += word + ' '\n",
    "    return predicted_sentence.strip()\n",
    "\n",
    "# Example translation using the one tokenizer model\n",
    "print(\"\\n[One Tokenizer] Example Translation:\")\n",
    "english_sentence = \"she is driving the truck\"\n",
    "print(f\"English: {english_sentence}\")\n",
    "print(f\"French (Predicted by one tokenizer): {translate_one_tokenizer(english_sentence)}\")\n",
    "\n",
    "# ----------------------------- #\n",
    "#      Step 10: Visualize Training History\n",
    "# ----------------------------- #\n",
    "\n",
    "# Function to plot training and validation accuracy and loss\n",
    "def plot_training_history_one(history):\n",
    "    # Plot Training & Validation Accuracy Values\n",
    "    plt.figure(figsize=(14, 5))\n",
    "\n",
    "    # Accuracy Plot\n",
    "    plt.subplot(1, 2, 1)\n",
    "    plt.plot(history.history['accuracy'], 'bo-', label='Training Accuracy')\n",
    "    plt.plot(history.history['val_accuracy'], 'ro-', label='Validation Accuracy')\n",
    "    plt.title('One Tokenizer Model Accuracy Over Epochs')\n",
    "    plt.xlabel('Epoch')\n",
    "    plt.ylabel('Accuracy')\n",
    "    plt.legend()\n",
    "\n",
    "    # Loss Plot\n",
    "    plt.subplot(1, 2, 2)\n",
    "    plt.plot(history.history['loss'], 'bo-', label='Training Loss')\n",
    "    plt.plot(history.history['val_loss'], 'ro-', label='Validation Loss')\n",
    "    plt.title('One Tokenizer Model Loss Over Epochs')\n",
    "    plt.xlabel('Epoch')\n",
    "    plt.ylabel('Loss')\n",
    "    plt.legend()\n",
    "\n",
    "    plt.show()\n",
    "\n",
    "# Plot the training history for the one tokenizer model\n",
    "plot_training_history_one(history_one)\n"
   ]
  },
  {
   "cell_type": "markdown",
   "metadata": {
    "id": "YGeXrjqbZen7"
   },
   "source": [
    "**What is another adjustment in terms of architecture that you might be able to do to improve your model?**"
   ]
  },
  {
   "cell_type": "markdown",
   "metadata": {
    "id": "bekjOkjbZlBf"
   },
   "source": [
    "\n",
    "### **Multi-Head Attention Mechanism**\n",
    "\n",
    "Multi-head attention is a key feature of transformer models that allows the model to focus on different parts of the input sentence simultaneously when generating each word in the output. For example, in the sentence \"The cat sat on the mat,\" one attention head might focus on \"The cat,\" another on \"sat,\" and another on \"on the mat.\" Each head processes the input independently, capturing multiple relationships at once. This enhances the model’s ability to understand complex dependencies within the sequence. In our translation project, multi-head attention helps align relevant parts of the English sentence with their French counterparts, such as matching \"cat\" with \"chat\" and \"sat\" with \"s'est assis.\" By adding multi-head attention to our Seq2Seq architecture, we achieve more accurate and contextually appropriate translations, improving overall translation quality.\n",
    "\n"
   ]
  },
  {
   "cell_type": "markdown",
   "metadata": {
    "id": "pnIN2lD2tn05"
   },
   "source": [
    "**What are some additional ways that we can do to improve the performance of our model?**"
   ]
  },
  {
   "cell_type": "markdown",
   "metadata": {
    "id": "s7_MCCbQt3uq"
   },
   "source": [
    "\n",
    "### **Explore Hybrid Architectures (LSTM + Convolutional Layers)**\n",
    "\n",
    "Hybrid architectures combine convolutional layers with LSTM layers to enhance machine translation. Convolutional layers excel at capturing local patterns, such as short phrases, acting as preprocessors that detect important word groups like \"sat on.\" These features are then passed to LSTM layers, which understand sequential data and long-term dependencies, analyzing the broader sentence structure and context. This combination leverages both local and global information, ensuring that models receive informative inputs and maintain coherent sequence flow. For example, in English-to-French translation, convolutional layers might extract phrases like \"The cat\" or \"on the mat,\" while LSTM layers ensure these patterns contribute to producing accurate and contextually appropriate translations like “Le chat est assis sur le tapis.” This dual processing improves overall translation quality by integrating detailed pattern recognition with comprehensive sequence understanding.\n",
    "\n"
   ]
  },
  {
   "cell_type": "markdown",
   "metadata": {
    "id": "tuvncZId4iLR"
   },
   "source": [
    "###**Apply Layer Normalization**\n",
    "\n",
    "Layer normalization stabilizes neural network training by normalizing each layer’s output to have a mean of 0 and a variance of 1. Unlike input normalization, which standardizes the input data, layer normalization is applied to the outputs of layers like LSTM or dense layers. This prevents issues like vanishing and exploding gradients, ensuring that activations remain stable and well-scaled as data moves through the network. As a result, models train more efficiently and converge faster, allowing deeper architectures to learn without instability. In my current implementation, input preprocessing steps such as tokenization and padding ensure consistent input data. In contrast, layer normalization operates within the model itself, normalizing outputs after each layer to maintain a consistent scale and enhance overall training stability."
   ]
  },
  {
   "cell_type": "markdown",
   "metadata": {
    "id": "DuBxMPF9tDHg"
   },
   "source": [
    "\n",
    "###**Tokenizer Adaptations for Different Language Pairs**\n",
    "\n",
    "When adapting tokenizers for different language pairs, several adjustments are necessary to handle each language's unique characteristics.\n",
    "\n",
    "For **English to Latin translation**, the tokenizer combines vocabularies from both languages, manages different punctuation and diacritics like \"ā,\" and uses strategies like <OOV> tokens for unknown words.\n",
    "\n",
    "For **English to English tasks** such as paraphrasing or summarization, the tokenizer maintains a consistent English vocabulary and employs subword techniques like BPE or WordPiece to handle rare or new words.\n",
    "\n",
    "In **English to Arabic translation**, the tokenizer must handle different scripts, manage right-to-left text direction, and break down complex Arabic word forms into roots and affixes. It also uses subword tokenization to manage rich morphology and decides whether to keep or discard diacritics based on the application. Additionally, the tokenizer combines English and Arabic vocabularies into a larger, versatile set and segments Arabic words into meaningful parts, unlike the space-based splitting used in English. Overall, the tokenizer adapts by expanding vocabulary sizes, effectively handling morphological differences, utilizing subword units, and respecting each language’s grammatical nuances to ensure accurate and efficient translation.\n"
   ]
  }
 ],
 "metadata": {
  "colab": {
   "machine_shape": "hm",
   "provenance": []
  },
  "kernelspec": {
   "display_name": "Python 3",
   "name": "python3"
  },
  "language_info": {
   "name": "python"
  }
 },
 "nbformat": 4,
 "nbformat_minor": 0
}
